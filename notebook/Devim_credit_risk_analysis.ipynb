{
  "nbformat": 4,
  "nbformat_minor": 0,
  "metadata": {
    "colab": {
      "provenance": [],
      "toc_visible": true
    },
    "kernelspec": {
      "name": "python3",
      "display_name": "Python 3"
    },
    "language_info": {
      "name": "python"
    }
  },
  "cells": [
    {
      "cell_type": "markdown",
      "source": [
        "# Анализ данных микрокредитной организации для снижения просрочек и увеличения клиентской базы\n",
        "\n",
        "---\n",
        "\n",
        "## Введение\n",
        "\n",
        "**Цель проекта:**  \n",
        "Провести глубокий анализ данных микрокредитной организации, чтобы выявить ключевые факторы, влияющие на вероятность просрочек по кредитам, а также определить закономерности, которые помогут увеличить число кредиторов и оптимизировать процессы выдачи кредитов.\n",
        "\n",
        "**Почему это важно:**  \n",
        "Просрочки по выплатам кредитов увеличивают финансовые риски компании и снижают прибыль. Оптимизация процесса и понимание поведения клиентов позволит улучшить качество портфеля и увеличить лояльность заемщиков.\n",
        "\n",
        "---\n",
        "\n",
        "## Содержание\n",
        "\n",
        "1. Загрузка и обзор данных\n",
        "2. Предварительная обработка данных\n",
        "3. Исследовательский анализ данных (EDA) :\n",
        " - График распределения просрочек по дням (гистограмма)\n",
        " - График динамики просрочек по месяцам (средняя просрочка)\n",
        " - График доли просроченных заявок по месяцам\n",
        " - График отклонений от плановой суммы\n",
        " - Процент своевременных платежей\n",
        " - Просрочка по категориям (кратковременные, средние, длительные просрочки)\n",
        " - График отклонений от плановой суммы по месяцам\n",
        "4. Выявление корреляций и зависимостей\n",
        "5. Заключение\n",
        "6. Контакты\n",
        "\n",
        "---\n",
        "\n",
        "## Методология и подходы\n",
        "\n",
        "Для анализа использовались данные по платежам и плановым суммам, объединенные по уникальному номеру заявки. Для визуализации данных, использовались следующие методы:\n",
        "\n",
        "* Гистограмма для распределения просрочек по дням.\n",
        "* Линейный график для динамики просрочек по месяцам.\n",
        "* Столбчатая диаграмма для доли просроченных заявок.\n",
        "* Анализ отклонений от плановой суммы и процент своевременных платежей.\n",
        "\n",
        "---\n",
        "\n",
        "## Основные метрики и показатели\n",
        "\n",
        "В рамках анализа были вычислены ключевые метрики:\n",
        "\n",
        "* Средняя просрочка по заявкам: показала, сколько в среднем клиентов откладывают оплату.\n",
        "* Процент просроченных заявок: доля всех заявок, которые не были оплачены в срок.\n",
        "* Отклонение от плановой суммы: насколько фактические платежи отклоняются от запланированных сумм.\n",
        "* Доля своевременных платежей: процент клиентов, которые соблюдают график платежей.\n"
      ],
      "metadata": {
        "id": "yByqswXYO53-"
      }
    },
    {
      "cell_type": "markdown",
      "source": [
        "# Анализ данных"
      ],
      "metadata": {
        "id": "ts7mJqYPYm1_"
      }
    },
    {
      "cell_type": "markdown",
      "source": [
        "<a id=\"file_connection\"></a>\n",
        "##Подключение файлов и создание датафреймов"
      ],
      "metadata": {
        "id": "DfKmBJOyBiqy"
      }
    },
    {
      "cell_type": "code",
      "execution_count": null,
      "metadata": {
        "colab": {
          "base_uri": "https://localhost:8080/"
        },
        "collapsed": true,
        "id": "28nv7CJWkTZs",
        "outputId": "e915133c-51fb-4e7d-bb5b-66e942531c7d"
      },
      "outputs": [
        {
          "output_type": "stream",
          "name": "stdout",
          "text": [
            "Mounted at /content/drive/\n"
          ]
        }
      ],
      "source": [
        "from google.colab import drive\n",
        "drive.mount('/content/drive/')"
      ]
    },
    {
      "cell_type": "code",
      "source": [
        "import os\n",
        "import pandas as pd\n",
        "import matplotlib.pyplot as plt"
      ],
      "metadata": {
        "id": "7YTaZzjpmG6S"
      },
      "execution_count": null,
      "outputs": []
    },
    {
      "cell_type": "code",
      "source": [
        "os.chdir('/content/drive/MyDrive/Devim')"
      ],
      "metadata": {
        "id": "SXj7u3_Zlldz"
      },
      "execution_count": null,
      "outputs": []
    },
    {
      "cell_type": "code",
      "source": [
        "!ls"
      ],
      "metadata": {
        "colab": {
          "base_uri": "https://localhost:8080/"
        },
        "id": "RN-HcWQUlTRs",
        "outputId": "50fd5f37-8e16-41ca-e75e-38730d1c3145"
      },
      "execution_count": null,
      "outputs": [
        {
          "output_type": "stream",
          "name": "stdout",
          "text": [
            "Devim.ipynb  orders.csv  payments.csv  plan.csv\n"
          ]
        }
      ]
    },
    {
      "cell_type": "code",
      "source": [
        "df_orders = pd.read_csv('orders.csv')\n",
        "df_payments = pd.read_csv('payments.csv')\n",
        "df_plan = pd.read_csv('plan.csv')"
      ],
      "metadata": {
        "collapsed": true,
        "id": "bWZuOWsolYD2"
      },
      "execution_count": null,
      "outputs": []
    },
    {
      "cell_type": "code",
      "source": [
        "df_orders.info()"
      ],
      "metadata": {
        "colab": {
          "base_uri": "https://localhost:8080/"
        },
        "collapsed": true,
        "id": "yOsNO-I0m4J4",
        "outputId": "e2f3e898-117b-4c92-8b2a-e069ce7533af"
      },
      "execution_count": null,
      "outputs": [
        {
          "output_type": "stream",
          "name": "stdout",
          "text": [
            "<class 'pandas.core.frame.DataFrame'>\n",
            "RangeIndex: 55748 entries, 0 to 55747\n",
            "Data columns (total 5 columns):\n",
            " #   Column      Non-Null Count  Dtype  \n",
            "---  ------      --------------  -----  \n",
            " 0   order_id    55748 non-null  int64  \n",
            " 1   created_at  55748 non-null  object \n",
            " 2   put_at      55748 non-null  object \n",
            " 3   closed_at   46472 non-null  object \n",
            " 4   issued_sum  55748 non-null  float64\n",
            "dtypes: float64(1), int64(1), object(3)\n",
            "memory usage: 2.1+ MB\n"
          ]
        }
      ]
    },
    {
      "cell_type": "code",
      "source": [
        "df_orders.head(10)"
      ],
      "metadata": {
        "colab": {
          "base_uri": "https://localhost:8080/",
          "height": 363
        },
        "collapsed": true,
        "id": "Z6WFSizN6XMp",
        "outputId": "a8c6b0d9-d8fe-4ecf-934c-9dbe5cf35dac"
      },
      "execution_count": null,
      "outputs": [
        {
          "output_type": "execute_result",
          "data": {
            "text/plain": [
              "    order_id               created_at                   put_at  \\\n",
              "0  400001732  2022-06-02 00:00:23.997  2022-06-02 20:18:00.180   \n",
              "1  400005838  2022-06-02 00:10:22.997  2022-06-02 15:41:33.267   \n",
              "2  400007915  2022-06-02 00:18:04.000  2022-06-05 19:17:38.547   \n",
              "3  400008952  2022-06-02 00:22:07.000  2022-06-03 14:25:18.033   \n",
              "4  400009027  2022-06-02 00:25:39.000  2022-06-02 00:40:40.320   \n",
              "5  400010534  2022-06-02 00:46:35.000  2022-06-02 11:42:04.560   \n",
              "6  400013633  2022-06-02 00:46:38.000  2022-06-02 00:47:46.277   \n",
              "7  400014289  2022-06-02 01:12:32.000  2022-06-02 01:14:07.683   \n",
              "8  400014330  2022-06-02 01:13:39.997  2022-06-02 10:56:18.277   \n",
              "9  400014464  2022-06-02 01:17:28.000  2022-06-02 01:22:27.323   \n",
              "\n",
              "                 closed_at  issued_sum  \n",
              "0  2022-10-17 11:52:22.190     13600.0  \n",
              "1  2022-06-02 17:38:43.917     20000.0  \n",
              "2  2022-06-21 21:55:51.877      5820.0  \n",
              "3  2022-07-12 10:47:46.307      9000.0  \n",
              "4  2022-06-22 14:15:07.423      5000.0  \n",
              "5  2022-07-14 22:15:19.217     14600.0  \n",
              "6  2022-06-16 03:15:48.960      9500.0  \n",
              "7  2022-06-06 15:04:37.347     10000.0  \n",
              "8  2022-06-13 12:16:33.123      5430.0  \n",
              "9  2022-06-06 16:29:00.720      3000.0  "
            ],
            "text/html": [
              "\n",
              "  <div id=\"df-ce5d8941-868b-4edc-a861-c5e05d590b2c\" class=\"colab-df-container\">\n",
              "    <div>\n",
              "<style scoped>\n",
              "    .dataframe tbody tr th:only-of-type {\n",
              "        vertical-align: middle;\n",
              "    }\n",
              "\n",
              "    .dataframe tbody tr th {\n",
              "        vertical-align: top;\n",
              "    }\n",
              "\n",
              "    .dataframe thead th {\n",
              "        text-align: right;\n",
              "    }\n",
              "</style>\n",
              "<table border=\"1\" class=\"dataframe\">\n",
              "  <thead>\n",
              "    <tr style=\"text-align: right;\">\n",
              "      <th></th>\n",
              "      <th>order_id</th>\n",
              "      <th>created_at</th>\n",
              "      <th>put_at</th>\n",
              "      <th>closed_at</th>\n",
              "      <th>issued_sum</th>\n",
              "    </tr>\n",
              "  </thead>\n",
              "  <tbody>\n",
              "    <tr>\n",
              "      <th>0</th>\n",
              "      <td>400001732</td>\n",
              "      <td>2022-06-02 00:00:23.997</td>\n",
              "      <td>2022-06-02 20:18:00.180</td>\n",
              "      <td>2022-10-17 11:52:22.190</td>\n",
              "      <td>13600.0</td>\n",
              "    </tr>\n",
              "    <tr>\n",
              "      <th>1</th>\n",
              "      <td>400005838</td>\n",
              "      <td>2022-06-02 00:10:22.997</td>\n",
              "      <td>2022-06-02 15:41:33.267</td>\n",
              "      <td>2022-06-02 17:38:43.917</td>\n",
              "      <td>20000.0</td>\n",
              "    </tr>\n",
              "    <tr>\n",
              "      <th>2</th>\n",
              "      <td>400007915</td>\n",
              "      <td>2022-06-02 00:18:04.000</td>\n",
              "      <td>2022-06-05 19:17:38.547</td>\n",
              "      <td>2022-06-21 21:55:51.877</td>\n",
              "      <td>5820.0</td>\n",
              "    </tr>\n",
              "    <tr>\n",
              "      <th>3</th>\n",
              "      <td>400008952</td>\n",
              "      <td>2022-06-02 00:22:07.000</td>\n",
              "      <td>2022-06-03 14:25:18.033</td>\n",
              "      <td>2022-07-12 10:47:46.307</td>\n",
              "      <td>9000.0</td>\n",
              "    </tr>\n",
              "    <tr>\n",
              "      <th>4</th>\n",
              "      <td>400009027</td>\n",
              "      <td>2022-06-02 00:25:39.000</td>\n",
              "      <td>2022-06-02 00:40:40.320</td>\n",
              "      <td>2022-06-22 14:15:07.423</td>\n",
              "      <td>5000.0</td>\n",
              "    </tr>\n",
              "    <tr>\n",
              "      <th>5</th>\n",
              "      <td>400010534</td>\n",
              "      <td>2022-06-02 00:46:35.000</td>\n",
              "      <td>2022-06-02 11:42:04.560</td>\n",
              "      <td>2022-07-14 22:15:19.217</td>\n",
              "      <td>14600.0</td>\n",
              "    </tr>\n",
              "    <tr>\n",
              "      <th>6</th>\n",
              "      <td>400013633</td>\n",
              "      <td>2022-06-02 00:46:38.000</td>\n",
              "      <td>2022-06-02 00:47:46.277</td>\n",
              "      <td>2022-06-16 03:15:48.960</td>\n",
              "      <td>9500.0</td>\n",
              "    </tr>\n",
              "    <tr>\n",
              "      <th>7</th>\n",
              "      <td>400014289</td>\n",
              "      <td>2022-06-02 01:12:32.000</td>\n",
              "      <td>2022-06-02 01:14:07.683</td>\n",
              "      <td>2022-06-06 15:04:37.347</td>\n",
              "      <td>10000.0</td>\n",
              "    </tr>\n",
              "    <tr>\n",
              "      <th>8</th>\n",
              "      <td>400014330</td>\n",
              "      <td>2022-06-02 01:13:39.997</td>\n",
              "      <td>2022-06-02 10:56:18.277</td>\n",
              "      <td>2022-06-13 12:16:33.123</td>\n",
              "      <td>5430.0</td>\n",
              "    </tr>\n",
              "    <tr>\n",
              "      <th>9</th>\n",
              "      <td>400014464</td>\n",
              "      <td>2022-06-02 01:17:28.000</td>\n",
              "      <td>2022-06-02 01:22:27.323</td>\n",
              "      <td>2022-06-06 16:29:00.720</td>\n",
              "      <td>3000.0</td>\n",
              "    </tr>\n",
              "  </tbody>\n",
              "</table>\n",
              "</div>\n",
              "    <div class=\"colab-df-buttons\">\n",
              "\n",
              "  <div class=\"colab-df-container\">\n",
              "    <button class=\"colab-df-convert\" onclick=\"convertToInteractive('df-ce5d8941-868b-4edc-a861-c5e05d590b2c')\"\n",
              "            title=\"Convert this dataframe to an interactive table.\"\n",
              "            style=\"display:none;\">\n",
              "\n",
              "  <svg xmlns=\"http://www.w3.org/2000/svg\" height=\"24px\" viewBox=\"0 -960 960 960\">\n",
              "    <path d=\"M120-120v-720h720v720H120Zm60-500h600v-160H180v160Zm220 220h160v-160H400v160Zm0 220h160v-160H400v160ZM180-400h160v-160H180v160Zm440 0h160v-160H620v160ZM180-180h160v-160H180v160Zm440 0h160v-160H620v160Z\"/>\n",
              "  </svg>\n",
              "    </button>\n",
              "\n",
              "  <style>\n",
              "    .colab-df-container {\n",
              "      display:flex;\n",
              "      gap: 12px;\n",
              "    }\n",
              "\n",
              "    .colab-df-convert {\n",
              "      background-color: #E8F0FE;\n",
              "      border: none;\n",
              "      border-radius: 50%;\n",
              "      cursor: pointer;\n",
              "      display: none;\n",
              "      fill: #1967D2;\n",
              "      height: 32px;\n",
              "      padding: 0 0 0 0;\n",
              "      width: 32px;\n",
              "    }\n",
              "\n",
              "    .colab-df-convert:hover {\n",
              "      background-color: #E2EBFA;\n",
              "      box-shadow: 0px 1px 2px rgba(60, 64, 67, 0.3), 0px 1px 3px 1px rgba(60, 64, 67, 0.15);\n",
              "      fill: #174EA6;\n",
              "    }\n",
              "\n",
              "    .colab-df-buttons div {\n",
              "      margin-bottom: 4px;\n",
              "    }\n",
              "\n",
              "    [theme=dark] .colab-df-convert {\n",
              "      background-color: #3B4455;\n",
              "      fill: #D2E3FC;\n",
              "    }\n",
              "\n",
              "    [theme=dark] .colab-df-convert:hover {\n",
              "      background-color: #434B5C;\n",
              "      box-shadow: 0px 1px 3px 1px rgba(0, 0, 0, 0.15);\n",
              "      filter: drop-shadow(0px 1px 2px rgba(0, 0, 0, 0.3));\n",
              "      fill: #FFFFFF;\n",
              "    }\n",
              "  </style>\n",
              "\n",
              "    <script>\n",
              "      const buttonEl =\n",
              "        document.querySelector('#df-ce5d8941-868b-4edc-a861-c5e05d590b2c button.colab-df-convert');\n",
              "      buttonEl.style.display =\n",
              "        google.colab.kernel.accessAllowed ? 'block' : 'none';\n",
              "\n",
              "      async function convertToInteractive(key) {\n",
              "        const element = document.querySelector('#df-ce5d8941-868b-4edc-a861-c5e05d590b2c');\n",
              "        const dataTable =\n",
              "          await google.colab.kernel.invokeFunction('convertToInteractive',\n",
              "                                                    [key], {});\n",
              "        if (!dataTable) return;\n",
              "\n",
              "        const docLinkHtml = 'Like what you see? Visit the ' +\n",
              "          '<a target=\"_blank\" href=https://colab.research.google.com/notebooks/data_table.ipynb>data table notebook</a>'\n",
              "          + ' to learn more about interactive tables.';\n",
              "        element.innerHTML = '';\n",
              "        dataTable['output_type'] = 'display_data';\n",
              "        await google.colab.output.renderOutput(dataTable, element);\n",
              "        const docLink = document.createElement('div');\n",
              "        docLink.innerHTML = docLinkHtml;\n",
              "        element.appendChild(docLink);\n",
              "      }\n",
              "    </script>\n",
              "  </div>\n",
              "\n",
              "\n",
              "<div id=\"df-397e18b2-ccb6-450c-957b-52d026677831\">\n",
              "  <button class=\"colab-df-quickchart\" onclick=\"quickchart('df-397e18b2-ccb6-450c-957b-52d026677831')\"\n",
              "            title=\"Suggest charts\"\n",
              "            style=\"display:none;\">\n",
              "\n",
              "<svg xmlns=\"http://www.w3.org/2000/svg\" height=\"24px\"viewBox=\"0 0 24 24\"\n",
              "     width=\"24px\">\n",
              "    <g>\n",
              "        <path d=\"M19 3H5c-1.1 0-2 .9-2 2v14c0 1.1.9 2 2 2h14c1.1 0 2-.9 2-2V5c0-1.1-.9-2-2-2zM9 17H7v-7h2v7zm4 0h-2V7h2v10zm4 0h-2v-4h2v4z\"/>\n",
              "    </g>\n",
              "</svg>\n",
              "  </button>\n",
              "\n",
              "<style>\n",
              "  .colab-df-quickchart {\n",
              "      --bg-color: #E8F0FE;\n",
              "      --fill-color: #1967D2;\n",
              "      --hover-bg-color: #E2EBFA;\n",
              "      --hover-fill-color: #174EA6;\n",
              "      --disabled-fill-color: #AAA;\n",
              "      --disabled-bg-color: #DDD;\n",
              "  }\n",
              "\n",
              "  [theme=dark] .colab-df-quickchart {\n",
              "      --bg-color: #3B4455;\n",
              "      --fill-color: #D2E3FC;\n",
              "      --hover-bg-color: #434B5C;\n",
              "      --hover-fill-color: #FFFFFF;\n",
              "      --disabled-bg-color: #3B4455;\n",
              "      --disabled-fill-color: #666;\n",
              "  }\n",
              "\n",
              "  .colab-df-quickchart {\n",
              "    background-color: var(--bg-color);\n",
              "    border: none;\n",
              "    border-radius: 50%;\n",
              "    cursor: pointer;\n",
              "    display: none;\n",
              "    fill: var(--fill-color);\n",
              "    height: 32px;\n",
              "    padding: 0;\n",
              "    width: 32px;\n",
              "  }\n",
              "\n",
              "  .colab-df-quickchart:hover {\n",
              "    background-color: var(--hover-bg-color);\n",
              "    box-shadow: 0 1px 2px rgba(60, 64, 67, 0.3), 0 1px 3px 1px rgba(60, 64, 67, 0.15);\n",
              "    fill: var(--button-hover-fill-color);\n",
              "  }\n",
              "\n",
              "  .colab-df-quickchart-complete:disabled,\n",
              "  .colab-df-quickchart-complete:disabled:hover {\n",
              "    background-color: var(--disabled-bg-color);\n",
              "    fill: var(--disabled-fill-color);\n",
              "    box-shadow: none;\n",
              "  }\n",
              "\n",
              "  .colab-df-spinner {\n",
              "    border: 2px solid var(--fill-color);\n",
              "    border-color: transparent;\n",
              "    border-bottom-color: var(--fill-color);\n",
              "    animation:\n",
              "      spin 1s steps(1) infinite;\n",
              "  }\n",
              "\n",
              "  @keyframes spin {\n",
              "    0% {\n",
              "      border-color: transparent;\n",
              "      border-bottom-color: var(--fill-color);\n",
              "      border-left-color: var(--fill-color);\n",
              "    }\n",
              "    20% {\n",
              "      border-color: transparent;\n",
              "      border-left-color: var(--fill-color);\n",
              "      border-top-color: var(--fill-color);\n",
              "    }\n",
              "    30% {\n",
              "      border-color: transparent;\n",
              "      border-left-color: var(--fill-color);\n",
              "      border-top-color: var(--fill-color);\n",
              "      border-right-color: var(--fill-color);\n",
              "    }\n",
              "    40% {\n",
              "      border-color: transparent;\n",
              "      border-right-color: var(--fill-color);\n",
              "      border-top-color: var(--fill-color);\n",
              "    }\n",
              "    60% {\n",
              "      border-color: transparent;\n",
              "      border-right-color: var(--fill-color);\n",
              "    }\n",
              "    80% {\n",
              "      border-color: transparent;\n",
              "      border-right-color: var(--fill-color);\n",
              "      border-bottom-color: var(--fill-color);\n",
              "    }\n",
              "    90% {\n",
              "      border-color: transparent;\n",
              "      border-bottom-color: var(--fill-color);\n",
              "    }\n",
              "  }\n",
              "</style>\n",
              "\n",
              "  <script>\n",
              "    async function quickchart(key) {\n",
              "      const quickchartButtonEl =\n",
              "        document.querySelector('#' + key + ' button');\n",
              "      quickchartButtonEl.disabled = true;  // To prevent multiple clicks.\n",
              "      quickchartButtonEl.classList.add('colab-df-spinner');\n",
              "      try {\n",
              "        const charts = await google.colab.kernel.invokeFunction(\n",
              "            'suggestCharts', [key], {});\n",
              "      } catch (error) {\n",
              "        console.error('Error during call to suggestCharts:', error);\n",
              "      }\n",
              "      quickchartButtonEl.classList.remove('colab-df-spinner');\n",
              "      quickchartButtonEl.classList.add('colab-df-quickchart-complete');\n",
              "    }\n",
              "    (() => {\n",
              "      let quickchartButtonEl =\n",
              "        document.querySelector('#df-397e18b2-ccb6-450c-957b-52d026677831 button');\n",
              "      quickchartButtonEl.style.display =\n",
              "        google.colab.kernel.accessAllowed ? 'block' : 'none';\n",
              "    })();\n",
              "  </script>\n",
              "</div>\n",
              "    </div>\n",
              "  </div>\n"
            ],
            "application/vnd.google.colaboratory.intrinsic+json": {
              "type": "dataframe",
              "variable_name": "df_orders",
              "summary": "{\n  \"name\": \"df_orders\",\n  \"rows\": 55748,\n  \"fields\": [\n    {\n      \"column\": \"order_id\",\n      \"properties\": {\n        \"dtype\": \"number\",\n        \"std\": 27553910,\n        \"min\": 400001732,\n        \"max\": 495177509,\n        \"num_unique_values\": 55748,\n        \"samples\": [\n          449348971,\n          457750050,\n          412217938\n        ],\n        \"semantic_type\": \"\",\n        \"description\": \"\"\n      }\n    },\n    {\n      \"column\": \"created_at\",\n      \"properties\": {\n        \"dtype\": \"object\",\n        \"num_unique_values\": 55039,\n        \"samples\": [\n          \"2022-06-27 08:15:47.000\",\n          \"2022-08-05 21:30:08.997\",\n          \"2022-08-06 02:51:14.000\"\n        ],\n        \"semantic_type\": \"\",\n        \"description\": \"\"\n      }\n    },\n    {\n      \"column\": \"put_at\",\n      \"properties\": {\n        \"dtype\": \"object\",\n        \"num_unique_values\": 55732,\n        \"samples\": [\n          \"2022-07-25 10:17:59.033\",\n          \"2022-07-13 15:55:55.180\",\n          \"2022-06-20 11:35:18.243\"\n        ],\n        \"semantic_type\": \"\",\n        \"description\": \"\"\n      }\n    },\n    {\n      \"column\": \"closed_at\",\n      \"properties\": {\n        \"dtype\": \"object\",\n        \"num_unique_values\": 46453,\n        \"samples\": [\n          \"2022-09-08 16:36:06.843\",\n          \"2022-09-06 15:16:29.350\",\n          \"2022-07-10 11:46:54.890\"\n        ],\n        \"semantic_type\": \"\",\n        \"description\": \"\"\n      }\n    },\n    {\n      \"column\": \"issued_sum\",\n      \"properties\": {\n        \"dtype\": \"number\",\n        \"std\": 4985.8484160102425,\n        \"min\": 1000.0,\n        \"max\": 28570.0,\n        \"num_unique_values\": 70,\n        \"samples\": [\n          8000.0,\n          13600.0,\n          24430.0\n        ],\n        \"semantic_type\": \"\",\n        \"description\": \"\"\n      }\n    }\n  ]\n}"
            }
          },
          "metadata": {},
          "execution_count": 34
        }
      ]
    },
    {
      "cell_type": "code",
      "source": [
        "df_payments.info()"
      ],
      "metadata": {
        "colab": {
          "base_uri": "https://localhost:8080/"
        },
        "collapsed": true,
        "id": "o-0SXv4hnNNn",
        "outputId": "aec5bb95-1d82-456b-ee13-70f6fcf1c816"
      },
      "execution_count": null,
      "outputs": [
        {
          "output_type": "stream",
          "name": "stdout",
          "text": [
            "<class 'pandas.core.frame.DataFrame'>\n",
            "RangeIndex: 143284 entries, 0 to 143283\n",
            "Data columns (total 3 columns):\n",
            " #   Column    Non-Null Count   Dtype  \n",
            "---  ------    --------------   -----  \n",
            " 0   order_id  143284 non-null  int64  \n",
            " 1   paid_at   143284 non-null  object \n",
            " 2   paid_sum  143284 non-null  float64\n",
            "dtypes: float64(1), int64(1), object(1)\n",
            "memory usage: 3.3+ MB\n"
          ]
        }
      ]
    },
    {
      "cell_type": "code",
      "source": [
        "df_payments.head(10)"
      ],
      "metadata": {
        "colab": {
          "base_uri": "https://localhost:8080/",
          "height": 363
        },
        "collapsed": true,
        "id": "UMww2qG_6b-1",
        "outputId": "fbe16a0b-61bf-4842-a14b-6519e20931be"
      },
      "execution_count": null,
      "outputs": [
        {
          "output_type": "execute_result",
          "data": {
            "text/plain": [
              "    order_id                  paid_at  paid_sum\n",
              "0  400013633  2022-06-02 00:48:13.800    2500.0\n",
              "1  400018480  2022-06-02 01:52:05.707    1070.0\n",
              "2  400032001  2022-06-02 04:55:40.307    4200.0\n",
              "3  400033195  2022-06-02 05:44:23.480    2850.0\n",
              "4  400039407  2022-06-02 06:53:54.503   10100.0\n",
              "5  400116494  2022-06-02 08:09:42.393    4200.0\n",
              "6  400138751  2022-06-02 09:39:18.877   11110.0\n",
              "7  400224041  2022-06-02 10:33:26.510    3570.0\n",
              "8  400020168  2022-06-02 10:39:36.157    4200.0\n",
              "9  400024960  2022-06-02 10:40:25.193    2500.0"
            ],
            "text/html": [
              "\n",
              "  <div id=\"df-98d1d9a7-89d3-4a14-87b1-e46e2f419eb9\" class=\"colab-df-container\">\n",
              "    <div>\n",
              "<style scoped>\n",
              "    .dataframe tbody tr th:only-of-type {\n",
              "        vertical-align: middle;\n",
              "    }\n",
              "\n",
              "    .dataframe tbody tr th {\n",
              "        vertical-align: top;\n",
              "    }\n",
              "\n",
              "    .dataframe thead th {\n",
              "        text-align: right;\n",
              "    }\n",
              "</style>\n",
              "<table border=\"1\" class=\"dataframe\">\n",
              "  <thead>\n",
              "    <tr style=\"text-align: right;\">\n",
              "      <th></th>\n",
              "      <th>order_id</th>\n",
              "      <th>paid_at</th>\n",
              "      <th>paid_sum</th>\n",
              "    </tr>\n",
              "  </thead>\n",
              "  <tbody>\n",
              "    <tr>\n",
              "      <th>0</th>\n",
              "      <td>400013633</td>\n",
              "      <td>2022-06-02 00:48:13.800</td>\n",
              "      <td>2500.0</td>\n",
              "    </tr>\n",
              "    <tr>\n",
              "      <th>1</th>\n",
              "      <td>400018480</td>\n",
              "      <td>2022-06-02 01:52:05.707</td>\n",
              "      <td>1070.0</td>\n",
              "    </tr>\n",
              "    <tr>\n",
              "      <th>2</th>\n",
              "      <td>400032001</td>\n",
              "      <td>2022-06-02 04:55:40.307</td>\n",
              "      <td>4200.0</td>\n",
              "    </tr>\n",
              "    <tr>\n",
              "      <th>3</th>\n",
              "      <td>400033195</td>\n",
              "      <td>2022-06-02 05:44:23.480</td>\n",
              "      <td>2850.0</td>\n",
              "    </tr>\n",
              "    <tr>\n",
              "      <th>4</th>\n",
              "      <td>400039407</td>\n",
              "      <td>2022-06-02 06:53:54.503</td>\n",
              "      <td>10100.0</td>\n",
              "    </tr>\n",
              "    <tr>\n",
              "      <th>5</th>\n",
              "      <td>400116494</td>\n",
              "      <td>2022-06-02 08:09:42.393</td>\n",
              "      <td>4200.0</td>\n",
              "    </tr>\n",
              "    <tr>\n",
              "      <th>6</th>\n",
              "      <td>400138751</td>\n",
              "      <td>2022-06-02 09:39:18.877</td>\n",
              "      <td>11110.0</td>\n",
              "    </tr>\n",
              "    <tr>\n",
              "      <th>7</th>\n",
              "      <td>400224041</td>\n",
              "      <td>2022-06-02 10:33:26.510</td>\n",
              "      <td>3570.0</td>\n",
              "    </tr>\n",
              "    <tr>\n",
              "      <th>8</th>\n",
              "      <td>400020168</td>\n",
              "      <td>2022-06-02 10:39:36.157</td>\n",
              "      <td>4200.0</td>\n",
              "    </tr>\n",
              "    <tr>\n",
              "      <th>9</th>\n",
              "      <td>400024960</td>\n",
              "      <td>2022-06-02 10:40:25.193</td>\n",
              "      <td>2500.0</td>\n",
              "    </tr>\n",
              "  </tbody>\n",
              "</table>\n",
              "</div>\n",
              "    <div class=\"colab-df-buttons\">\n",
              "\n",
              "  <div class=\"colab-df-container\">\n",
              "    <button class=\"colab-df-convert\" onclick=\"convertToInteractive('df-98d1d9a7-89d3-4a14-87b1-e46e2f419eb9')\"\n",
              "            title=\"Convert this dataframe to an interactive table.\"\n",
              "            style=\"display:none;\">\n",
              "\n",
              "  <svg xmlns=\"http://www.w3.org/2000/svg\" height=\"24px\" viewBox=\"0 -960 960 960\">\n",
              "    <path d=\"M120-120v-720h720v720H120Zm60-500h600v-160H180v160Zm220 220h160v-160H400v160Zm0 220h160v-160H400v160ZM180-400h160v-160H180v160Zm440 0h160v-160H620v160ZM180-180h160v-160H180v160Zm440 0h160v-160H620v160Z\"/>\n",
              "  </svg>\n",
              "    </button>\n",
              "\n",
              "  <style>\n",
              "    .colab-df-container {\n",
              "      display:flex;\n",
              "      gap: 12px;\n",
              "    }\n",
              "\n",
              "    .colab-df-convert {\n",
              "      background-color: #E8F0FE;\n",
              "      border: none;\n",
              "      border-radius: 50%;\n",
              "      cursor: pointer;\n",
              "      display: none;\n",
              "      fill: #1967D2;\n",
              "      height: 32px;\n",
              "      padding: 0 0 0 0;\n",
              "      width: 32px;\n",
              "    }\n",
              "\n",
              "    .colab-df-convert:hover {\n",
              "      background-color: #E2EBFA;\n",
              "      box-shadow: 0px 1px 2px rgba(60, 64, 67, 0.3), 0px 1px 3px 1px rgba(60, 64, 67, 0.15);\n",
              "      fill: #174EA6;\n",
              "    }\n",
              "\n",
              "    .colab-df-buttons div {\n",
              "      margin-bottom: 4px;\n",
              "    }\n",
              "\n",
              "    [theme=dark] .colab-df-convert {\n",
              "      background-color: #3B4455;\n",
              "      fill: #D2E3FC;\n",
              "    }\n",
              "\n",
              "    [theme=dark] .colab-df-convert:hover {\n",
              "      background-color: #434B5C;\n",
              "      box-shadow: 0px 1px 3px 1px rgba(0, 0, 0, 0.15);\n",
              "      filter: drop-shadow(0px 1px 2px rgba(0, 0, 0, 0.3));\n",
              "      fill: #FFFFFF;\n",
              "    }\n",
              "  </style>\n",
              "\n",
              "    <script>\n",
              "      const buttonEl =\n",
              "        document.querySelector('#df-98d1d9a7-89d3-4a14-87b1-e46e2f419eb9 button.colab-df-convert');\n",
              "      buttonEl.style.display =\n",
              "        google.colab.kernel.accessAllowed ? 'block' : 'none';\n",
              "\n",
              "      async function convertToInteractive(key) {\n",
              "        const element = document.querySelector('#df-98d1d9a7-89d3-4a14-87b1-e46e2f419eb9');\n",
              "        const dataTable =\n",
              "          await google.colab.kernel.invokeFunction('convertToInteractive',\n",
              "                                                    [key], {});\n",
              "        if (!dataTable) return;\n",
              "\n",
              "        const docLinkHtml = 'Like what you see? Visit the ' +\n",
              "          '<a target=\"_blank\" href=https://colab.research.google.com/notebooks/data_table.ipynb>data table notebook</a>'\n",
              "          + ' to learn more about interactive tables.';\n",
              "        element.innerHTML = '';\n",
              "        dataTable['output_type'] = 'display_data';\n",
              "        await google.colab.output.renderOutput(dataTable, element);\n",
              "        const docLink = document.createElement('div');\n",
              "        docLink.innerHTML = docLinkHtml;\n",
              "        element.appendChild(docLink);\n",
              "      }\n",
              "    </script>\n",
              "  </div>\n",
              "\n",
              "\n",
              "<div id=\"df-6115d44b-5d68-430c-89a3-d9c55acadac4\">\n",
              "  <button class=\"colab-df-quickchart\" onclick=\"quickchart('df-6115d44b-5d68-430c-89a3-d9c55acadac4')\"\n",
              "            title=\"Suggest charts\"\n",
              "            style=\"display:none;\">\n",
              "\n",
              "<svg xmlns=\"http://www.w3.org/2000/svg\" height=\"24px\"viewBox=\"0 0 24 24\"\n",
              "     width=\"24px\">\n",
              "    <g>\n",
              "        <path d=\"M19 3H5c-1.1 0-2 .9-2 2v14c0 1.1.9 2 2 2h14c1.1 0 2-.9 2-2V5c0-1.1-.9-2-2-2zM9 17H7v-7h2v7zm4 0h-2V7h2v10zm4 0h-2v-4h2v4z\"/>\n",
              "    </g>\n",
              "</svg>\n",
              "  </button>\n",
              "\n",
              "<style>\n",
              "  .colab-df-quickchart {\n",
              "      --bg-color: #E8F0FE;\n",
              "      --fill-color: #1967D2;\n",
              "      --hover-bg-color: #E2EBFA;\n",
              "      --hover-fill-color: #174EA6;\n",
              "      --disabled-fill-color: #AAA;\n",
              "      --disabled-bg-color: #DDD;\n",
              "  }\n",
              "\n",
              "  [theme=dark] .colab-df-quickchart {\n",
              "      --bg-color: #3B4455;\n",
              "      --fill-color: #D2E3FC;\n",
              "      --hover-bg-color: #434B5C;\n",
              "      --hover-fill-color: #FFFFFF;\n",
              "      --disabled-bg-color: #3B4455;\n",
              "      --disabled-fill-color: #666;\n",
              "  }\n",
              "\n",
              "  .colab-df-quickchart {\n",
              "    background-color: var(--bg-color);\n",
              "    border: none;\n",
              "    border-radius: 50%;\n",
              "    cursor: pointer;\n",
              "    display: none;\n",
              "    fill: var(--fill-color);\n",
              "    height: 32px;\n",
              "    padding: 0;\n",
              "    width: 32px;\n",
              "  }\n",
              "\n",
              "  .colab-df-quickchart:hover {\n",
              "    background-color: var(--hover-bg-color);\n",
              "    box-shadow: 0 1px 2px rgba(60, 64, 67, 0.3), 0 1px 3px 1px rgba(60, 64, 67, 0.15);\n",
              "    fill: var(--button-hover-fill-color);\n",
              "  }\n",
              "\n",
              "  .colab-df-quickchart-complete:disabled,\n",
              "  .colab-df-quickchart-complete:disabled:hover {\n",
              "    background-color: var(--disabled-bg-color);\n",
              "    fill: var(--disabled-fill-color);\n",
              "    box-shadow: none;\n",
              "  }\n",
              "\n",
              "  .colab-df-spinner {\n",
              "    border: 2px solid var(--fill-color);\n",
              "    border-color: transparent;\n",
              "    border-bottom-color: var(--fill-color);\n",
              "    animation:\n",
              "      spin 1s steps(1) infinite;\n",
              "  }\n",
              "\n",
              "  @keyframes spin {\n",
              "    0% {\n",
              "      border-color: transparent;\n",
              "      border-bottom-color: var(--fill-color);\n",
              "      border-left-color: var(--fill-color);\n",
              "    }\n",
              "    20% {\n",
              "      border-color: transparent;\n",
              "      border-left-color: var(--fill-color);\n",
              "      border-top-color: var(--fill-color);\n",
              "    }\n",
              "    30% {\n",
              "      border-color: transparent;\n",
              "      border-left-color: var(--fill-color);\n",
              "      border-top-color: var(--fill-color);\n",
              "      border-right-color: var(--fill-color);\n",
              "    }\n",
              "    40% {\n",
              "      border-color: transparent;\n",
              "      border-right-color: var(--fill-color);\n",
              "      border-top-color: var(--fill-color);\n",
              "    }\n",
              "    60% {\n",
              "      border-color: transparent;\n",
              "      border-right-color: var(--fill-color);\n",
              "    }\n",
              "    80% {\n",
              "      border-color: transparent;\n",
              "      border-right-color: var(--fill-color);\n",
              "      border-bottom-color: var(--fill-color);\n",
              "    }\n",
              "    90% {\n",
              "      border-color: transparent;\n",
              "      border-bottom-color: var(--fill-color);\n",
              "    }\n",
              "  }\n",
              "</style>\n",
              "\n",
              "  <script>\n",
              "    async function quickchart(key) {\n",
              "      const quickchartButtonEl =\n",
              "        document.querySelector('#' + key + ' button');\n",
              "      quickchartButtonEl.disabled = true;  // To prevent multiple clicks.\n",
              "      quickchartButtonEl.classList.add('colab-df-spinner');\n",
              "      try {\n",
              "        const charts = await google.colab.kernel.invokeFunction(\n",
              "            'suggestCharts', [key], {});\n",
              "      } catch (error) {\n",
              "        console.error('Error during call to suggestCharts:', error);\n",
              "      }\n",
              "      quickchartButtonEl.classList.remove('colab-df-spinner');\n",
              "      quickchartButtonEl.classList.add('colab-df-quickchart-complete');\n",
              "    }\n",
              "    (() => {\n",
              "      let quickchartButtonEl =\n",
              "        document.querySelector('#df-6115d44b-5d68-430c-89a3-d9c55acadac4 button');\n",
              "      quickchartButtonEl.style.display =\n",
              "        google.colab.kernel.accessAllowed ? 'block' : 'none';\n",
              "    })();\n",
              "  </script>\n",
              "</div>\n",
              "    </div>\n",
              "  </div>\n"
            ],
            "application/vnd.google.colaboratory.intrinsic+json": {
              "type": "dataframe",
              "variable_name": "df_payments"
            }
          },
          "metadata": {},
          "execution_count": 35
        }
      ]
    },
    {
      "cell_type": "code",
      "source": [
        "df_plan.info()"
      ],
      "metadata": {
        "colab": {
          "base_uri": "https://localhost:8080/"
        },
        "collapsed": true,
        "id": "SSFMOe-QnPbr",
        "outputId": "94a8ca3d-589e-4a93-b83c-5fedd0387160"
      },
      "execution_count": null,
      "outputs": [
        {
          "output_type": "stream",
          "name": "stdout",
          "text": [
            "<class 'pandas.core.frame.DataFrame'>\n",
            "RangeIndex: 420282 entries, 0 to 420281\n",
            "Data columns (total 3 columns):\n",
            " #   Column          Non-Null Count   Dtype  \n",
            "---  ------          --------------   -----  \n",
            " 0   order_id        420282 non-null  int64  \n",
            " 1   plan_at         420282 non-null  object \n",
            " 2   plan_sum_total  420282 non-null  float64\n",
            "dtypes: float64(1), int64(1), object(1)\n",
            "memory usage: 9.6+ MB\n"
          ]
        }
      ]
    },
    {
      "cell_type": "code",
      "source": [
        "df_plan.head(10)"
      ],
      "metadata": {
        "colab": {
          "base_uri": "https://localhost:8080/",
          "height": 363
        },
        "collapsed": true,
        "id": "DQObZEKD6fXd",
        "outputId": "f8f642e0-c244-44ba-89da-8c48637de545"
      },
      "execution_count": null,
      "outputs": [
        {
          "output_type": "execute_result",
          "data": {
            "text/plain": [
              "    order_id     plan_at  plan_sum_total\n",
              "0  400001732  2022-06-02          5600.0\n",
              "1  400001732  2022-07-02          9450.0\n",
              "2  400001732  2022-08-01         12170.0\n",
              "3  400001732  2022-08-31         14890.0\n",
              "4  400001732  2022-09-30         17610.0\n",
              "5  400001732  2022-10-30         20330.0\n",
              "6  400001732  2022-11-29         23050.0\n",
              "7  400005838  2022-06-17         23000.0\n",
              "8  400007915  2022-06-05          1820.0\n",
              "9  400007915  2022-06-20          2730.0"
            ],
            "text/html": [
              "\n",
              "  <div id=\"df-f891d934-d7ed-4e11-80c4-b740ed82ba6b\" class=\"colab-df-container\">\n",
              "    <div>\n",
              "<style scoped>\n",
              "    .dataframe tbody tr th:only-of-type {\n",
              "        vertical-align: middle;\n",
              "    }\n",
              "\n",
              "    .dataframe tbody tr th {\n",
              "        vertical-align: top;\n",
              "    }\n",
              "\n",
              "    .dataframe thead th {\n",
              "        text-align: right;\n",
              "    }\n",
              "</style>\n",
              "<table border=\"1\" class=\"dataframe\">\n",
              "  <thead>\n",
              "    <tr style=\"text-align: right;\">\n",
              "      <th></th>\n",
              "      <th>order_id</th>\n",
              "      <th>plan_at</th>\n",
              "      <th>plan_sum_total</th>\n",
              "    </tr>\n",
              "  </thead>\n",
              "  <tbody>\n",
              "    <tr>\n",
              "      <th>0</th>\n",
              "      <td>400001732</td>\n",
              "      <td>2022-06-02</td>\n",
              "      <td>5600.0</td>\n",
              "    </tr>\n",
              "    <tr>\n",
              "      <th>1</th>\n",
              "      <td>400001732</td>\n",
              "      <td>2022-07-02</td>\n",
              "      <td>9450.0</td>\n",
              "    </tr>\n",
              "    <tr>\n",
              "      <th>2</th>\n",
              "      <td>400001732</td>\n",
              "      <td>2022-08-01</td>\n",
              "      <td>12170.0</td>\n",
              "    </tr>\n",
              "    <tr>\n",
              "      <th>3</th>\n",
              "      <td>400001732</td>\n",
              "      <td>2022-08-31</td>\n",
              "      <td>14890.0</td>\n",
              "    </tr>\n",
              "    <tr>\n",
              "      <th>4</th>\n",
              "      <td>400001732</td>\n",
              "      <td>2022-09-30</td>\n",
              "      <td>17610.0</td>\n",
              "    </tr>\n",
              "    <tr>\n",
              "      <th>5</th>\n",
              "      <td>400001732</td>\n",
              "      <td>2022-10-30</td>\n",
              "      <td>20330.0</td>\n",
              "    </tr>\n",
              "    <tr>\n",
              "      <th>6</th>\n",
              "      <td>400001732</td>\n",
              "      <td>2022-11-29</td>\n",
              "      <td>23050.0</td>\n",
              "    </tr>\n",
              "    <tr>\n",
              "      <th>7</th>\n",
              "      <td>400005838</td>\n",
              "      <td>2022-06-17</td>\n",
              "      <td>23000.0</td>\n",
              "    </tr>\n",
              "    <tr>\n",
              "      <th>8</th>\n",
              "      <td>400007915</td>\n",
              "      <td>2022-06-05</td>\n",
              "      <td>1820.0</td>\n",
              "    </tr>\n",
              "    <tr>\n",
              "      <th>9</th>\n",
              "      <td>400007915</td>\n",
              "      <td>2022-06-20</td>\n",
              "      <td>2730.0</td>\n",
              "    </tr>\n",
              "  </tbody>\n",
              "</table>\n",
              "</div>\n",
              "    <div class=\"colab-df-buttons\">\n",
              "\n",
              "  <div class=\"colab-df-container\">\n",
              "    <button class=\"colab-df-convert\" onclick=\"convertToInteractive('df-f891d934-d7ed-4e11-80c4-b740ed82ba6b')\"\n",
              "            title=\"Convert this dataframe to an interactive table.\"\n",
              "            style=\"display:none;\">\n",
              "\n",
              "  <svg xmlns=\"http://www.w3.org/2000/svg\" height=\"24px\" viewBox=\"0 -960 960 960\">\n",
              "    <path d=\"M120-120v-720h720v720H120Zm60-500h600v-160H180v160Zm220 220h160v-160H400v160Zm0 220h160v-160H400v160ZM180-400h160v-160H180v160Zm440 0h160v-160H620v160ZM180-180h160v-160H180v160Zm440 0h160v-160H620v160Z\"/>\n",
              "  </svg>\n",
              "    </button>\n",
              "\n",
              "  <style>\n",
              "    .colab-df-container {\n",
              "      display:flex;\n",
              "      gap: 12px;\n",
              "    }\n",
              "\n",
              "    .colab-df-convert {\n",
              "      background-color: #E8F0FE;\n",
              "      border: none;\n",
              "      border-radius: 50%;\n",
              "      cursor: pointer;\n",
              "      display: none;\n",
              "      fill: #1967D2;\n",
              "      height: 32px;\n",
              "      padding: 0 0 0 0;\n",
              "      width: 32px;\n",
              "    }\n",
              "\n",
              "    .colab-df-convert:hover {\n",
              "      background-color: #E2EBFA;\n",
              "      box-shadow: 0px 1px 2px rgba(60, 64, 67, 0.3), 0px 1px 3px 1px rgba(60, 64, 67, 0.15);\n",
              "      fill: #174EA6;\n",
              "    }\n",
              "\n",
              "    .colab-df-buttons div {\n",
              "      margin-bottom: 4px;\n",
              "    }\n",
              "\n",
              "    [theme=dark] .colab-df-convert {\n",
              "      background-color: #3B4455;\n",
              "      fill: #D2E3FC;\n",
              "    }\n",
              "\n",
              "    [theme=dark] .colab-df-convert:hover {\n",
              "      background-color: #434B5C;\n",
              "      box-shadow: 0px 1px 3px 1px rgba(0, 0, 0, 0.15);\n",
              "      filter: drop-shadow(0px 1px 2px rgba(0, 0, 0, 0.3));\n",
              "      fill: #FFFFFF;\n",
              "    }\n",
              "  </style>\n",
              "\n",
              "    <script>\n",
              "      const buttonEl =\n",
              "        document.querySelector('#df-f891d934-d7ed-4e11-80c4-b740ed82ba6b button.colab-df-convert');\n",
              "      buttonEl.style.display =\n",
              "        google.colab.kernel.accessAllowed ? 'block' : 'none';\n",
              "\n",
              "      async function convertToInteractive(key) {\n",
              "        const element = document.querySelector('#df-f891d934-d7ed-4e11-80c4-b740ed82ba6b');\n",
              "        const dataTable =\n",
              "          await google.colab.kernel.invokeFunction('convertToInteractive',\n",
              "                                                    [key], {});\n",
              "        if (!dataTable) return;\n",
              "\n",
              "        const docLinkHtml = 'Like what you see? Visit the ' +\n",
              "          '<a target=\"_blank\" href=https://colab.research.google.com/notebooks/data_table.ipynb>data table notebook</a>'\n",
              "          + ' to learn more about interactive tables.';\n",
              "        element.innerHTML = '';\n",
              "        dataTable['output_type'] = 'display_data';\n",
              "        await google.colab.output.renderOutput(dataTable, element);\n",
              "        const docLink = document.createElement('div');\n",
              "        docLink.innerHTML = docLinkHtml;\n",
              "        element.appendChild(docLink);\n",
              "      }\n",
              "    </script>\n",
              "  </div>\n",
              "\n",
              "\n",
              "<div id=\"df-2d7ab16d-eca6-464d-9eeb-42f8dfca96da\">\n",
              "  <button class=\"colab-df-quickchart\" onclick=\"quickchart('df-2d7ab16d-eca6-464d-9eeb-42f8dfca96da')\"\n",
              "            title=\"Suggest charts\"\n",
              "            style=\"display:none;\">\n",
              "\n",
              "<svg xmlns=\"http://www.w3.org/2000/svg\" height=\"24px\"viewBox=\"0 0 24 24\"\n",
              "     width=\"24px\">\n",
              "    <g>\n",
              "        <path d=\"M19 3H5c-1.1 0-2 .9-2 2v14c0 1.1.9 2 2 2h14c1.1 0 2-.9 2-2V5c0-1.1-.9-2-2-2zM9 17H7v-7h2v7zm4 0h-2V7h2v10zm4 0h-2v-4h2v4z\"/>\n",
              "    </g>\n",
              "</svg>\n",
              "  </button>\n",
              "\n",
              "<style>\n",
              "  .colab-df-quickchart {\n",
              "      --bg-color: #E8F0FE;\n",
              "      --fill-color: #1967D2;\n",
              "      --hover-bg-color: #E2EBFA;\n",
              "      --hover-fill-color: #174EA6;\n",
              "      --disabled-fill-color: #AAA;\n",
              "      --disabled-bg-color: #DDD;\n",
              "  }\n",
              "\n",
              "  [theme=dark] .colab-df-quickchart {\n",
              "      --bg-color: #3B4455;\n",
              "      --fill-color: #D2E3FC;\n",
              "      --hover-bg-color: #434B5C;\n",
              "      --hover-fill-color: #FFFFFF;\n",
              "      --disabled-bg-color: #3B4455;\n",
              "      --disabled-fill-color: #666;\n",
              "  }\n",
              "\n",
              "  .colab-df-quickchart {\n",
              "    background-color: var(--bg-color);\n",
              "    border: none;\n",
              "    border-radius: 50%;\n",
              "    cursor: pointer;\n",
              "    display: none;\n",
              "    fill: var(--fill-color);\n",
              "    height: 32px;\n",
              "    padding: 0;\n",
              "    width: 32px;\n",
              "  }\n",
              "\n",
              "  .colab-df-quickchart:hover {\n",
              "    background-color: var(--hover-bg-color);\n",
              "    box-shadow: 0 1px 2px rgba(60, 64, 67, 0.3), 0 1px 3px 1px rgba(60, 64, 67, 0.15);\n",
              "    fill: var(--button-hover-fill-color);\n",
              "  }\n",
              "\n",
              "  .colab-df-quickchart-complete:disabled,\n",
              "  .colab-df-quickchart-complete:disabled:hover {\n",
              "    background-color: var(--disabled-bg-color);\n",
              "    fill: var(--disabled-fill-color);\n",
              "    box-shadow: none;\n",
              "  }\n",
              "\n",
              "  .colab-df-spinner {\n",
              "    border: 2px solid var(--fill-color);\n",
              "    border-color: transparent;\n",
              "    border-bottom-color: var(--fill-color);\n",
              "    animation:\n",
              "      spin 1s steps(1) infinite;\n",
              "  }\n",
              "\n",
              "  @keyframes spin {\n",
              "    0% {\n",
              "      border-color: transparent;\n",
              "      border-bottom-color: var(--fill-color);\n",
              "      border-left-color: var(--fill-color);\n",
              "    }\n",
              "    20% {\n",
              "      border-color: transparent;\n",
              "      border-left-color: var(--fill-color);\n",
              "      border-top-color: var(--fill-color);\n",
              "    }\n",
              "    30% {\n",
              "      border-color: transparent;\n",
              "      border-left-color: var(--fill-color);\n",
              "      border-top-color: var(--fill-color);\n",
              "      border-right-color: var(--fill-color);\n",
              "    }\n",
              "    40% {\n",
              "      border-color: transparent;\n",
              "      border-right-color: var(--fill-color);\n",
              "      border-top-color: var(--fill-color);\n",
              "    }\n",
              "    60% {\n",
              "      border-color: transparent;\n",
              "      border-right-color: var(--fill-color);\n",
              "    }\n",
              "    80% {\n",
              "      border-color: transparent;\n",
              "      border-right-color: var(--fill-color);\n",
              "      border-bottom-color: var(--fill-color);\n",
              "    }\n",
              "    90% {\n",
              "      border-color: transparent;\n",
              "      border-bottom-color: var(--fill-color);\n",
              "    }\n",
              "  }\n",
              "</style>\n",
              "\n",
              "  <script>\n",
              "    async function quickchart(key) {\n",
              "      const quickchartButtonEl =\n",
              "        document.querySelector('#' + key + ' button');\n",
              "      quickchartButtonEl.disabled = true;  // To prevent multiple clicks.\n",
              "      quickchartButtonEl.classList.add('colab-df-spinner');\n",
              "      try {\n",
              "        const charts = await google.colab.kernel.invokeFunction(\n",
              "            'suggestCharts', [key], {});\n",
              "      } catch (error) {\n",
              "        console.error('Error during call to suggestCharts:', error);\n",
              "      }\n",
              "      quickchartButtonEl.classList.remove('colab-df-spinner');\n",
              "      quickchartButtonEl.classList.add('colab-df-quickchart-complete');\n",
              "    }\n",
              "    (() => {\n",
              "      let quickchartButtonEl =\n",
              "        document.querySelector('#df-2d7ab16d-eca6-464d-9eeb-42f8dfca96da button');\n",
              "      quickchartButtonEl.style.display =\n",
              "        google.colab.kernel.accessAllowed ? 'block' : 'none';\n",
              "    })();\n",
              "  </script>\n",
              "</div>\n",
              "    </div>\n",
              "  </div>\n"
            ],
            "application/vnd.google.colaboratory.intrinsic+json": {
              "type": "dataframe",
              "variable_name": "df_plan"
            }
          },
          "metadata": {},
          "execution_count": 36
        }
      ]
    },
    {
      "cell_type": "markdown",
      "source": [
        "<a id=\"data_preparation\"></a>\n",
        "## Подготовка данных к анализу и визуализации\n",
        "\n"
      ],
      "metadata": {
        "id": "tsx0G5VH14jR"
      }
    },
    {
      "cell_type": "code",
      "source": [
        "# Преобразование колонок с датами в datetime формат\n",
        "df_orders['created_at'] = pd.to_datetime(df_orders['created_at'])\n",
        "df_orders['put_at'] = pd.to_datetime(df_orders['put_at'])\n",
        "df_orders['closed_at'] = pd.to_datetime(df_orders['closed_at'], errors='coerce')"
      ],
      "metadata": {
        "id": "mxyyZv5-sBig"
      },
      "execution_count": null,
      "outputs": []
    },
    {
      "cell_type": "code",
      "source": [
        "df_payments['paid_at'] = pd.to_datetime(df_payments['paid_at'])\n",
        "df_plan['plan_at'] = pd.to_datetime(df_plan['plan_at'])"
      ],
      "metadata": {
        "id": "2JtMV0e5sBdv"
      },
      "execution_count": null,
      "outputs": []
    },
    {
      "cell_type": "code",
      "source": [
        "# Объединение данных по order_id\n",
        "merged_data = pd.merge(df_orders, df_payments, on='order_id', how='left')\n",
        "merged_data = pd.merge(merged_data, df_plan, on='order_id', how='left')"
      ],
      "metadata": {
        "id": "YkuadS0osBTP"
      },
      "execution_count": null,
      "outputs": []
    },
    {
      "cell_type": "code",
      "source": [
        "# Создание колонки для просрочки (разница между фактической датой платежа и плановой)\n",
        "merged_data['delay_days'] = (merged_data['paid_at'] - merged_data['plan_at']).dt.days"
      ],
      "metadata": {
        "id": "RUr-A4-yspnb"
      },
      "execution_count": null,
      "outputs": []
    },
    {
      "cell_type": "code",
      "source": [
        "# Фильтрация для анализа просроченных платежей (delay_days > 0)\n",
        "delayed_data = merged_data[merged_data['delay_days'] > 0]"
      ],
      "metadata": {
        "id": "0ad01f0_spj1"
      },
      "execution_count": null,
      "outputs": []
    },
    {
      "cell_type": "code",
      "source": [
        "merged_data.head(10)"
      ],
      "metadata": {
        "colab": {
          "base_uri": "https://localhost:8080/",
          "height": 363
        },
        "id": "ffPN5ZlrKb9D",
        "outputId": "85756171-b07a-4299-f40f-958c55a4a75c"
      },
      "execution_count": null,
      "outputs": [
        {
          "output_type": "execute_result",
          "data": {
            "text/plain": [
              "    order_id              created_at                  put_at  \\\n",
              "0  400001732 2022-06-02 00:00:23.997 2022-06-02 20:18:00.180   \n",
              "1  400001732 2022-06-02 00:00:23.997 2022-06-02 20:18:00.180   \n",
              "2  400001732 2022-06-02 00:00:23.997 2022-06-02 20:18:00.180   \n",
              "3  400001732 2022-06-02 00:00:23.997 2022-06-02 20:18:00.180   \n",
              "4  400001732 2022-06-02 00:00:23.997 2022-06-02 20:18:00.180   \n",
              "5  400001732 2022-06-02 00:00:23.997 2022-06-02 20:18:00.180   \n",
              "6  400001732 2022-06-02 00:00:23.997 2022-06-02 20:18:00.180   \n",
              "7  400001732 2022-06-02 00:00:23.997 2022-06-02 20:18:00.180   \n",
              "8  400001732 2022-06-02 00:00:23.997 2022-06-02 20:18:00.180   \n",
              "9  400001732 2022-06-02 00:00:23.997 2022-06-02 20:18:00.180   \n",
              "\n",
              "                closed_at  issued_sum                 paid_at  paid_sum  \\\n",
              "0 2022-10-17 11:52:22.190     13600.0 2022-06-02 20:20:16.790    5600.0   \n",
              "1 2022-10-17 11:52:22.190     13600.0 2022-06-02 20:20:16.790    5600.0   \n",
              "2 2022-10-17 11:52:22.190     13600.0 2022-06-02 20:20:16.790    5600.0   \n",
              "3 2022-10-17 11:52:22.190     13600.0 2022-06-02 20:20:16.790    5600.0   \n",
              "4 2022-10-17 11:52:22.190     13600.0 2022-06-02 20:20:16.790    5600.0   \n",
              "5 2022-10-17 11:52:22.190     13600.0 2022-06-02 20:20:16.790    5600.0   \n",
              "6 2022-10-17 11:52:22.190     13600.0 2022-06-02 20:20:16.790    5600.0   \n",
              "7 2022-10-17 11:52:22.190     13600.0 2022-06-16 16:05:26.007    3850.0   \n",
              "8 2022-10-17 11:52:22.190     13600.0 2022-06-16 16:05:26.007    3850.0   \n",
              "9 2022-10-17 11:52:22.190     13600.0 2022-06-16 16:05:26.007    3850.0   \n",
              "\n",
              "     plan_at  plan_sum_total  delay_days  \n",
              "0 2022-06-02          5600.0         0.0  \n",
              "1 2022-07-02          9450.0       -30.0  \n",
              "2 2022-08-01         12170.0       -60.0  \n",
              "3 2022-08-31         14890.0       -90.0  \n",
              "4 2022-09-30         17610.0      -120.0  \n",
              "5 2022-10-30         20330.0      -150.0  \n",
              "6 2022-11-29         23050.0      -180.0  \n",
              "7 2022-06-02          5600.0        14.0  \n",
              "8 2022-07-02          9450.0       -16.0  \n",
              "9 2022-08-01         12170.0       -46.0  "
            ],
            "text/html": [
              "\n",
              "  <div id=\"df-eb39be45-7247-47a7-858e-39af2fd35d12\" class=\"colab-df-container\">\n",
              "    <div>\n",
              "<style scoped>\n",
              "    .dataframe tbody tr th:only-of-type {\n",
              "        vertical-align: middle;\n",
              "    }\n",
              "\n",
              "    .dataframe tbody tr th {\n",
              "        vertical-align: top;\n",
              "    }\n",
              "\n",
              "    .dataframe thead th {\n",
              "        text-align: right;\n",
              "    }\n",
              "</style>\n",
              "<table border=\"1\" class=\"dataframe\">\n",
              "  <thead>\n",
              "    <tr style=\"text-align: right;\">\n",
              "      <th></th>\n",
              "      <th>order_id</th>\n",
              "      <th>created_at</th>\n",
              "      <th>put_at</th>\n",
              "      <th>closed_at</th>\n",
              "      <th>issued_sum</th>\n",
              "      <th>paid_at</th>\n",
              "      <th>paid_sum</th>\n",
              "      <th>plan_at</th>\n",
              "      <th>plan_sum_total</th>\n",
              "      <th>delay_days</th>\n",
              "    </tr>\n",
              "  </thead>\n",
              "  <tbody>\n",
              "    <tr>\n",
              "      <th>0</th>\n",
              "      <td>400001732</td>\n",
              "      <td>2022-06-02 00:00:23.997</td>\n",
              "      <td>2022-06-02 20:18:00.180</td>\n",
              "      <td>2022-10-17 11:52:22.190</td>\n",
              "      <td>13600.0</td>\n",
              "      <td>2022-06-02 20:20:16.790</td>\n",
              "      <td>5600.0</td>\n",
              "      <td>2022-06-02</td>\n",
              "      <td>5600.0</td>\n",
              "      <td>0.0</td>\n",
              "    </tr>\n",
              "    <tr>\n",
              "      <th>1</th>\n",
              "      <td>400001732</td>\n",
              "      <td>2022-06-02 00:00:23.997</td>\n",
              "      <td>2022-06-02 20:18:00.180</td>\n",
              "      <td>2022-10-17 11:52:22.190</td>\n",
              "      <td>13600.0</td>\n",
              "      <td>2022-06-02 20:20:16.790</td>\n",
              "      <td>5600.0</td>\n",
              "      <td>2022-07-02</td>\n",
              "      <td>9450.0</td>\n",
              "      <td>-30.0</td>\n",
              "    </tr>\n",
              "    <tr>\n",
              "      <th>2</th>\n",
              "      <td>400001732</td>\n",
              "      <td>2022-06-02 00:00:23.997</td>\n",
              "      <td>2022-06-02 20:18:00.180</td>\n",
              "      <td>2022-10-17 11:52:22.190</td>\n",
              "      <td>13600.0</td>\n",
              "      <td>2022-06-02 20:20:16.790</td>\n",
              "      <td>5600.0</td>\n",
              "      <td>2022-08-01</td>\n",
              "      <td>12170.0</td>\n",
              "      <td>-60.0</td>\n",
              "    </tr>\n",
              "    <tr>\n",
              "      <th>3</th>\n",
              "      <td>400001732</td>\n",
              "      <td>2022-06-02 00:00:23.997</td>\n",
              "      <td>2022-06-02 20:18:00.180</td>\n",
              "      <td>2022-10-17 11:52:22.190</td>\n",
              "      <td>13600.0</td>\n",
              "      <td>2022-06-02 20:20:16.790</td>\n",
              "      <td>5600.0</td>\n",
              "      <td>2022-08-31</td>\n",
              "      <td>14890.0</td>\n",
              "      <td>-90.0</td>\n",
              "    </tr>\n",
              "    <tr>\n",
              "      <th>4</th>\n",
              "      <td>400001732</td>\n",
              "      <td>2022-06-02 00:00:23.997</td>\n",
              "      <td>2022-06-02 20:18:00.180</td>\n",
              "      <td>2022-10-17 11:52:22.190</td>\n",
              "      <td>13600.0</td>\n",
              "      <td>2022-06-02 20:20:16.790</td>\n",
              "      <td>5600.0</td>\n",
              "      <td>2022-09-30</td>\n",
              "      <td>17610.0</td>\n",
              "      <td>-120.0</td>\n",
              "    </tr>\n",
              "    <tr>\n",
              "      <th>5</th>\n",
              "      <td>400001732</td>\n",
              "      <td>2022-06-02 00:00:23.997</td>\n",
              "      <td>2022-06-02 20:18:00.180</td>\n",
              "      <td>2022-10-17 11:52:22.190</td>\n",
              "      <td>13600.0</td>\n",
              "      <td>2022-06-02 20:20:16.790</td>\n",
              "      <td>5600.0</td>\n",
              "      <td>2022-10-30</td>\n",
              "      <td>20330.0</td>\n",
              "      <td>-150.0</td>\n",
              "    </tr>\n",
              "    <tr>\n",
              "      <th>6</th>\n",
              "      <td>400001732</td>\n",
              "      <td>2022-06-02 00:00:23.997</td>\n",
              "      <td>2022-06-02 20:18:00.180</td>\n",
              "      <td>2022-10-17 11:52:22.190</td>\n",
              "      <td>13600.0</td>\n",
              "      <td>2022-06-02 20:20:16.790</td>\n",
              "      <td>5600.0</td>\n",
              "      <td>2022-11-29</td>\n",
              "      <td>23050.0</td>\n",
              "      <td>-180.0</td>\n",
              "    </tr>\n",
              "    <tr>\n",
              "      <th>7</th>\n",
              "      <td>400001732</td>\n",
              "      <td>2022-06-02 00:00:23.997</td>\n",
              "      <td>2022-06-02 20:18:00.180</td>\n",
              "      <td>2022-10-17 11:52:22.190</td>\n",
              "      <td>13600.0</td>\n",
              "      <td>2022-06-16 16:05:26.007</td>\n",
              "      <td>3850.0</td>\n",
              "      <td>2022-06-02</td>\n",
              "      <td>5600.0</td>\n",
              "      <td>14.0</td>\n",
              "    </tr>\n",
              "    <tr>\n",
              "      <th>8</th>\n",
              "      <td>400001732</td>\n",
              "      <td>2022-06-02 00:00:23.997</td>\n",
              "      <td>2022-06-02 20:18:00.180</td>\n",
              "      <td>2022-10-17 11:52:22.190</td>\n",
              "      <td>13600.0</td>\n",
              "      <td>2022-06-16 16:05:26.007</td>\n",
              "      <td>3850.0</td>\n",
              "      <td>2022-07-02</td>\n",
              "      <td>9450.0</td>\n",
              "      <td>-16.0</td>\n",
              "    </tr>\n",
              "    <tr>\n",
              "      <th>9</th>\n",
              "      <td>400001732</td>\n",
              "      <td>2022-06-02 00:00:23.997</td>\n",
              "      <td>2022-06-02 20:18:00.180</td>\n",
              "      <td>2022-10-17 11:52:22.190</td>\n",
              "      <td>13600.0</td>\n",
              "      <td>2022-06-16 16:05:26.007</td>\n",
              "      <td>3850.0</td>\n",
              "      <td>2022-08-01</td>\n",
              "      <td>12170.0</td>\n",
              "      <td>-46.0</td>\n",
              "    </tr>\n",
              "  </tbody>\n",
              "</table>\n",
              "</div>\n",
              "    <div class=\"colab-df-buttons\">\n",
              "\n",
              "  <div class=\"colab-df-container\">\n",
              "    <button class=\"colab-df-convert\" onclick=\"convertToInteractive('df-eb39be45-7247-47a7-858e-39af2fd35d12')\"\n",
              "            title=\"Convert this dataframe to an interactive table.\"\n",
              "            style=\"display:none;\">\n",
              "\n",
              "  <svg xmlns=\"http://www.w3.org/2000/svg\" height=\"24px\" viewBox=\"0 -960 960 960\">\n",
              "    <path d=\"M120-120v-720h720v720H120Zm60-500h600v-160H180v160Zm220 220h160v-160H400v160Zm0 220h160v-160H400v160ZM180-400h160v-160H180v160Zm440 0h160v-160H620v160ZM180-180h160v-160H180v160Zm440 0h160v-160H620v160Z\"/>\n",
              "  </svg>\n",
              "    </button>\n",
              "\n",
              "  <style>\n",
              "    .colab-df-container {\n",
              "      display:flex;\n",
              "      gap: 12px;\n",
              "    }\n",
              "\n",
              "    .colab-df-convert {\n",
              "      background-color: #E8F0FE;\n",
              "      border: none;\n",
              "      border-radius: 50%;\n",
              "      cursor: pointer;\n",
              "      display: none;\n",
              "      fill: #1967D2;\n",
              "      height: 32px;\n",
              "      padding: 0 0 0 0;\n",
              "      width: 32px;\n",
              "    }\n",
              "\n",
              "    .colab-df-convert:hover {\n",
              "      background-color: #E2EBFA;\n",
              "      box-shadow: 0px 1px 2px rgba(60, 64, 67, 0.3), 0px 1px 3px 1px rgba(60, 64, 67, 0.15);\n",
              "      fill: #174EA6;\n",
              "    }\n",
              "\n",
              "    .colab-df-buttons div {\n",
              "      margin-bottom: 4px;\n",
              "    }\n",
              "\n",
              "    [theme=dark] .colab-df-convert {\n",
              "      background-color: #3B4455;\n",
              "      fill: #D2E3FC;\n",
              "    }\n",
              "\n",
              "    [theme=dark] .colab-df-convert:hover {\n",
              "      background-color: #434B5C;\n",
              "      box-shadow: 0px 1px 3px 1px rgba(0, 0, 0, 0.15);\n",
              "      filter: drop-shadow(0px 1px 2px rgba(0, 0, 0, 0.3));\n",
              "      fill: #FFFFFF;\n",
              "    }\n",
              "  </style>\n",
              "\n",
              "    <script>\n",
              "      const buttonEl =\n",
              "        document.querySelector('#df-eb39be45-7247-47a7-858e-39af2fd35d12 button.colab-df-convert');\n",
              "      buttonEl.style.display =\n",
              "        google.colab.kernel.accessAllowed ? 'block' : 'none';\n",
              "\n",
              "      async function convertToInteractive(key) {\n",
              "        const element = document.querySelector('#df-eb39be45-7247-47a7-858e-39af2fd35d12');\n",
              "        const dataTable =\n",
              "          await google.colab.kernel.invokeFunction('convertToInteractive',\n",
              "                                                    [key], {});\n",
              "        if (!dataTable) return;\n",
              "\n",
              "        const docLinkHtml = 'Like what you see? Visit the ' +\n",
              "          '<a target=\"_blank\" href=https://colab.research.google.com/notebooks/data_table.ipynb>data table notebook</a>'\n",
              "          + ' to learn more about interactive tables.';\n",
              "        element.innerHTML = '';\n",
              "        dataTable['output_type'] = 'display_data';\n",
              "        await google.colab.output.renderOutput(dataTable, element);\n",
              "        const docLink = document.createElement('div');\n",
              "        docLink.innerHTML = docLinkHtml;\n",
              "        element.appendChild(docLink);\n",
              "      }\n",
              "    </script>\n",
              "  </div>\n",
              "\n",
              "\n",
              "<div id=\"df-54bab42e-acc9-43dd-a1d0-b9239a4b2b5f\">\n",
              "  <button class=\"colab-df-quickchart\" onclick=\"quickchart('df-54bab42e-acc9-43dd-a1d0-b9239a4b2b5f')\"\n",
              "            title=\"Suggest charts\"\n",
              "            style=\"display:none;\">\n",
              "\n",
              "<svg xmlns=\"http://www.w3.org/2000/svg\" height=\"24px\"viewBox=\"0 0 24 24\"\n",
              "     width=\"24px\">\n",
              "    <g>\n",
              "        <path d=\"M19 3H5c-1.1 0-2 .9-2 2v14c0 1.1.9 2 2 2h14c1.1 0 2-.9 2-2V5c0-1.1-.9-2-2-2zM9 17H7v-7h2v7zm4 0h-2V7h2v10zm4 0h-2v-4h2v4z\"/>\n",
              "    </g>\n",
              "</svg>\n",
              "  </button>\n",
              "\n",
              "<style>\n",
              "  .colab-df-quickchart {\n",
              "      --bg-color: #E8F0FE;\n",
              "      --fill-color: #1967D2;\n",
              "      --hover-bg-color: #E2EBFA;\n",
              "      --hover-fill-color: #174EA6;\n",
              "      --disabled-fill-color: #AAA;\n",
              "      --disabled-bg-color: #DDD;\n",
              "  }\n",
              "\n",
              "  [theme=dark] .colab-df-quickchart {\n",
              "      --bg-color: #3B4455;\n",
              "      --fill-color: #D2E3FC;\n",
              "      --hover-bg-color: #434B5C;\n",
              "      --hover-fill-color: #FFFFFF;\n",
              "      --disabled-bg-color: #3B4455;\n",
              "      --disabled-fill-color: #666;\n",
              "  }\n",
              "\n",
              "  .colab-df-quickchart {\n",
              "    background-color: var(--bg-color);\n",
              "    border: none;\n",
              "    border-radius: 50%;\n",
              "    cursor: pointer;\n",
              "    display: none;\n",
              "    fill: var(--fill-color);\n",
              "    height: 32px;\n",
              "    padding: 0;\n",
              "    width: 32px;\n",
              "  }\n",
              "\n",
              "  .colab-df-quickchart:hover {\n",
              "    background-color: var(--hover-bg-color);\n",
              "    box-shadow: 0 1px 2px rgba(60, 64, 67, 0.3), 0 1px 3px 1px rgba(60, 64, 67, 0.15);\n",
              "    fill: var(--button-hover-fill-color);\n",
              "  }\n",
              "\n",
              "  .colab-df-quickchart-complete:disabled,\n",
              "  .colab-df-quickchart-complete:disabled:hover {\n",
              "    background-color: var(--disabled-bg-color);\n",
              "    fill: var(--disabled-fill-color);\n",
              "    box-shadow: none;\n",
              "  }\n",
              "\n",
              "  .colab-df-spinner {\n",
              "    border: 2px solid var(--fill-color);\n",
              "    border-color: transparent;\n",
              "    border-bottom-color: var(--fill-color);\n",
              "    animation:\n",
              "      spin 1s steps(1) infinite;\n",
              "  }\n",
              "\n",
              "  @keyframes spin {\n",
              "    0% {\n",
              "      border-color: transparent;\n",
              "      border-bottom-color: var(--fill-color);\n",
              "      border-left-color: var(--fill-color);\n",
              "    }\n",
              "    20% {\n",
              "      border-color: transparent;\n",
              "      border-left-color: var(--fill-color);\n",
              "      border-top-color: var(--fill-color);\n",
              "    }\n",
              "    30% {\n",
              "      border-color: transparent;\n",
              "      border-left-color: var(--fill-color);\n",
              "      border-top-color: var(--fill-color);\n",
              "      border-right-color: var(--fill-color);\n",
              "    }\n",
              "    40% {\n",
              "      border-color: transparent;\n",
              "      border-right-color: var(--fill-color);\n",
              "      border-top-color: var(--fill-color);\n",
              "    }\n",
              "    60% {\n",
              "      border-color: transparent;\n",
              "      border-right-color: var(--fill-color);\n",
              "    }\n",
              "    80% {\n",
              "      border-color: transparent;\n",
              "      border-right-color: var(--fill-color);\n",
              "      border-bottom-color: var(--fill-color);\n",
              "    }\n",
              "    90% {\n",
              "      border-color: transparent;\n",
              "      border-bottom-color: var(--fill-color);\n",
              "    }\n",
              "  }\n",
              "</style>\n",
              "\n",
              "  <script>\n",
              "    async function quickchart(key) {\n",
              "      const quickchartButtonEl =\n",
              "        document.querySelector('#' + key + ' button');\n",
              "      quickchartButtonEl.disabled = true;  // To prevent multiple clicks.\n",
              "      quickchartButtonEl.classList.add('colab-df-spinner');\n",
              "      try {\n",
              "        const charts = await google.colab.kernel.invokeFunction(\n",
              "            'suggestCharts', [key], {});\n",
              "      } catch (error) {\n",
              "        console.error('Error during call to suggestCharts:', error);\n",
              "      }\n",
              "      quickchartButtonEl.classList.remove('colab-df-spinner');\n",
              "      quickchartButtonEl.classList.add('colab-df-quickchart-complete');\n",
              "    }\n",
              "    (() => {\n",
              "      let quickchartButtonEl =\n",
              "        document.querySelector('#df-54bab42e-acc9-43dd-a1d0-b9239a4b2b5f button');\n",
              "      quickchartButtonEl.style.display =\n",
              "        google.colab.kernel.accessAllowed ? 'block' : 'none';\n",
              "    })();\n",
              "  </script>\n",
              "</div>\n",
              "    </div>\n",
              "  </div>\n"
            ],
            "application/vnd.google.colaboratory.intrinsic+json": {
              "type": "dataframe",
              "variable_name": "merged_data"
            }
          },
          "metadata": {},
          "execution_count": 42
        }
      ]
    },
    {
      "cell_type": "markdown",
      "source": [
        "<a id=\"data_analysis\"></a>\n",
        "## Графики для анализа просрочки платежей"
      ],
      "metadata": {
        "id": "TBfo6TPas1K0"
      }
    },
    {
      "cell_type": "markdown",
      "source": [
        "<a id=\"graph1\"></a>\n",
        "### 1. График распределения просрочек по дням (гистограмма)"
      ],
      "metadata": {
        "id": "HKV9bcbXx-Ya"
      }
    },
    {
      "cell_type": "code",
      "source": [
        "plt.figure(figsize=(10, 6))\n",
        "plt.hist(delayed_data['delay_days'], bins=40, edgecolor='black')\n",
        "plt.title('Распределение просроченных платежей по дням')\n",
        "plt.xlabel('Количество дней просрочки')\n",
        "plt.ylabel('Частота')\n",
        "plt.tight_layout()\n",
        "plt.show()"
      ],
      "metadata": {
        "colab": {
          "base_uri": "https://localhost:8080/",
          "height": 607
        },
        "id": "uHoZujmksphN",
        "outputId": "37c3b4ab-3026-4960-dc40-9f390ae2cc2f"
      },
      "execution_count": null,
      "outputs": [
        {
          "output_type": "display_data",
          "data": {
            "text/plain": [
              "<Figure size 1000x600 with 1 Axes>"
            ],
            "image/png": "[encoded data removed]"
          },
          "metadata": {}
        }
      ]
    },
    {
      "cell_type": "markdown",
      "source": [
        "**Вывод:**\n",
        "\n",
        "\n",
        "На этом графике мы можем увидеть, как распределяются просроченные платежи по количеству дней.\n",
        "\n",
        "Большинство платежей находится в диапазоне от 1 до 30 дней, это может указывать на то, что клиенты чаще всего просрочивают платежи на короткий срок.\n",
        "\n",
        "Вместе с тем, мы видим пики в правой части графика - длительных просрочках. Это может быть индикатором проблем в управлении дебиторской задолженностью."
      ],
      "metadata": {
        "id": "vnBoKZU_ySxF"
      }
    },
    {
      "cell_type": "markdown",
      "source": [
        "<a id=\"graph2\"></a>\n",
        "### 2. График динамики просрочек по месяцам (средняя просрочка)"
      ],
      "metadata": {
        "id": "Fxm5DbJ9zeIA"
      }
    },
    {
      "cell_type": "code",
      "source": [
        "merged_data['month'] = merged_data['plan_at'].dt.to_period('M').astype(str)\n",
        "\n",
        "delayed_data = merged_data[merged_data['delay_days'] > 0]\n",
        "delayed_data['month'] = delayed_data['plan_at'].dt.to_period('M').astype(str)\n",
        "\n",
        "avg_delay_by_month = delayed_data.groupby('month')['delay_days'].mean()\n",
        "\n",
        "plt.figure(figsize=(10, 6))\n",
        "plt.plot(avg_delay_by_month.index, avg_delay_by_month.values)\n",
        "plt.title('Динамика просрочек по месяцам')\n",
        "plt.xlabel('Месяц')\n",
        "plt.ylabel('Средняя просрочка (дни)')\n",
        "plt.xticks(rotation=45)\n",
        "plt.tight_layout()\n",
        "plt.show()"
      ],
      "metadata": {
        "colab": {
          "base_uri": "https://localhost:8080/",
          "height": 711
        },
        "id": "mvQwv-dzspdc",
        "outputId": "0b4b543d-626d-4852-9542-a086a61ec36d"
      },
      "execution_count": null,
      "outputs": [
        {
          "output_type": "stream",
          "name": "stderr",
          "text": [
            "<ipython-input-43-53a328576db4>:4: SettingWithCopyWarning: \n",
            "A value is trying to be set on a copy of a slice from a DataFrame.\n",
            "Try using .loc[row_indexer,col_indexer] = value instead\n",
            "\n",
            "See the caveats in the documentation: https://pandas.pydata.org/pandas-docs/stable/user_guide/indexing.html#returning-a-view-versus-a-copy\n",
            "  delayed_data['month'] = delayed_data['plan_at'].dt.to_period('M').astype(str)\n"
          ]
        },
        {
          "output_type": "display_data",
          "data": {
            "text/plain": [
              "<Figure size 1000x600 with 1 Axes>"
            ],
            "image/png": "[encoded data removed]"
          },
          "metadata": {}
        }
      ]
    },
    {
      "cell_type": "markdown",
      "source": [
        "**Вывод:**\n",
        "\n",
        "Этот график показывает среднюю просрочку по месяцам.\n",
        "На графике изображена убывающая кривая. Это означает, что наблюдается снижение средней просрочки.\n",
        "\n",
        "Значит, что меры, принимаемые по улучшению дисциплины, должников эффективны."
      ],
      "metadata": {
        "id": "kOZZcHRh03lo"
      }
    },
    {
      "cell_type": "markdown",
      "source": [
        "<a id=\"graph3\"></a>\n",
        "### 3. График доли просроченных заявок по месяцам"
      ],
      "metadata": {
        "id": "-ztlmj5c0UkW"
      }
    },
    {
      "cell_type": "code",
      "source": [
        "percentage_delayed_by_month = (delayed_data.groupby('month').size() / merged_data.groupby('month').size()) * 100\n",
        "\n",
        "plt.figure(figsize=(10, 6))\n",
        "percentage_delayed_by_month.plot(kind='bar')\n",
        "plt.title('Доля просроченных заявок по месяцам')\n",
        "plt.xlabel('Месяц')\n",
        "plt.ylabel('Процент просроченных заявок')\n",
        "plt.xticks(rotation=45)\n",
        "plt.tight_layout()\n",
        "plt.show()"
      ],
      "metadata": {
        "colab": {
          "base_uri": "https://localhost:8080/",
          "height": 607
        },
        "id": "vQg0XKACspVy",
        "outputId": "7def7570-b549-4a36-bb80-6ffc09f78204"
      },
      "execution_count": null,
      "outputs": [
        {
          "output_type": "display_data",
          "data": {
            "text/plain": [
              "<Figure size 1000x600 with 1 Axes>"
            ],
            "image/png": "[encoded data removed]"
          },
          "metadata": {}
        }
      ]
    },
    {
      "cell_type": "markdown",
      "source": [
        "**Вывод:**\n",
        "\n",
        "Этот график показывает, какой процент всех заявок оказался просроченным в каждом месяце.\n",
        "\n",
        "Если процент просроченных заявок увеличивается, это может указывать на то, что проблемы с дебиторской задолженностью становятся более актуальными.\n",
        "\n",
        "В данном случае, происходит снижение процента просроченных заявок. Это может свидетельствовать о том, что меры по улучшению финансовой дисциплины начинают приносить результаты."
      ],
      "metadata": {
        "id": "SLrzgjeD1CvL"
      }
    },
    {
      "cell_type": "markdown",
      "source": [
        "<a id=\"graph4\"></a>\n",
        "### 4. График отклонений от плановой суммы"
      ],
      "metadata": {
        "id": "HedfmLHB0a6J"
      }
    },
    {
      "cell_type": "code",
      "source": [
        "merged_data['order_id'] = merged_data['order_id'].astype(int)"
      ],
      "metadata": {
        "id": "psMtjsgY62cU"
      },
      "execution_count": null,
      "outputs": []
    },
    {
      "cell_type": "code",
      "source": [
        "merged_data['deviation_from_plan'] = (merged_data['paid_sum'] - merged_data['plan_sum_total']) / merged_data['plan_sum_total'] * 100\n",
        "\n",
        "plt.figure(figsize=(10, 6))\n",
        "plt.plot(merged_data['order_id'], merged_data['deviation_from_plan'], marker='o', linestyle=' ')\n",
        "plt.title('Отклонение от плановой суммы по заявкам')\n",
        "plt.xlabel('Номер заявки (100 млн)')\n",
        "plt.ylabel('Отклонение от плановой суммы (%)')\n",
        "plt.tight_layout()\n",
        "plt.show()"
      ],
      "metadata": {
        "colab": {
          "base_uri": "https://localhost:8080/",
          "height": 607
        },
        "id": "i-hTIvDntkxz",
        "outputId": "60de73f3-510a-4e9a-9b89-c030f681717a"
      },
      "execution_count": null,
      "outputs": [
        {
          "output_type": "display_data",
          "data": {
            "text/plain": [
              "<Figure size 1000x600 with 1 Axes>"
            ],
            "image/png": "[encoded data removed]"
          },
          "metadata": {}
        }
      ]
    },
    {
      "cell_type": "markdown",
      "source": [
        "**Вывод:**\n",
        "\n",
        "Этот график показывает отклонения фактически оплаченной суммы от запланированной.\n",
        "\n",
        "На графике видно, что в большинстве случаев кредиторы оплачивают необходимую сумму в срок.\n",
        "\n",
        "Существование выбросов (вплоть до 5000%) сигнализирует о возможной неполноте или недостоверности данных. Необходимо уточнить данные, для создание более полного анализа и принятия управленческого решения."
      ],
      "metadata": {
        "id": "kI62vJP71JG5"
      }
    },
    {
      "cell_type": "code",
      "source": [
        "# Фильтрация выбросов (например, отклонения больше 5000%)\n",
        "filtered_data = merged_data[merged_data['deviation_from_plan'] < 700]\n",
        "\n",
        "# Построение графика без выбросов\n",
        "plt.figure(figsize=(10, 6))\n",
        "plt.plot(filtered_data['order_id'], filtered_data['deviation_from_plan'], marker='o', linestyle='--')\n",
        "plt.title('Отклонение от плановой суммы без выбросов')\n",
        "plt.xlabel('Номер заявки (100 млн)')\n",
        "plt.ylabel('Отклонение от плановой суммы (%)')\n",
        "plt.tight_layout()\n",
        "plt.show()"
      ],
      "metadata": {
        "colab": {
          "base_uri": "https://localhost:8080/",
          "height": 607
        },
        "id": "_uRlWln75Lci",
        "outputId": "4f0405d5-0085-467b-fcbe-4625d1a854d0"
      },
      "execution_count": null,
      "outputs": [
        {
          "output_type": "display_data",
          "data": {
            "text/plain": [
              "<Figure size 1000x600 with 1 Axes>"
            ],
            "image/png": "[encoded data removed]"
          },
          "metadata": {}
        }
      ]
    },
    {
      "cell_type": "markdown",
      "source": [
        "Для более детального анализа рассмотрим график процентного отклонения платежей от плановой суммы, исключив из статистики выбросы, превосходящие 700 процентов.\n",
        "\n",
        "На графике видно, что в большей части заявок, отклонение от плановой суммы платежа составляет до 500 процентов.\n",
        "\n",
        "Однако, наличие поинтов в нижней части графика, соответствующей отрицательному проценту отклонения, может говорить о том, что часть клиентов не платят полную сумму в срок, задерживая выплаты по счетам."
      ],
      "metadata": {
        "id": "dp-BjcsK544C"
      }
    },
    {
      "cell_type": "markdown",
      "source": [
        "<a id=\"graph5\"></a>\n",
        "### 5. Процент своевременных платежей"
      ],
      "metadata": {
        "id": "SIlnX99v0jE_"
      }
    },
    {
      "cell_type": "code",
      "source": [
        "on_time_percentage = (len(merged_data[merged_data['delay_days'] <= 0]) / len(merged_data)) * 100\n",
        "print(f'Процент своевременных платежей: {on_time_percentage:.2f}%')"
      ],
      "metadata": {
        "colab": {
          "base_uri": "https://localhost:8080/"
        },
        "id": "qbnUsXq1tkvV",
        "outputId": "c52f157b-852f-4e05-8e5a-d75659dd75eb"
      },
      "execution_count": null,
      "outputs": [
        {
          "output_type": "stream",
          "name": "stdout",
          "text": [
            "Процент своевременных платежей: 77.25%\n"
          ]
        }
      ]
    },
    {
      "cell_type": "markdown",
      "source": [
        "**Вывод:**\n",
        "\n",
        "Процент своевременных платежей показывает, насколько хорошо клиенты выполняют свои обязательства.\n",
        "\n",
        "В данном случае мы видим, что процент своевременных платежей приближается к 80 процентам. Это может свидетельствовать о хорошем уровне финансовой дисциплины среди клиентов."
      ],
      "metadata": {
        "id": "r3LGr6uK1Qm-"
      }
    },
    {
      "cell_type": "markdown",
      "source": [
        "<a id=\"graph6\"></a>\n",
        "### 6. Просрочка по категориям (кратковременные, средние, длительные просрочки)"
      ],
      "metadata": {
        "id": "U8kA_fI90l9J"
      }
    },
    {
      "cell_type": "code",
      "source": [
        "short_delayed = len(delayed_data[delayed_data['delay_days'] <= 30])\n",
        "medium_delayed = len(delayed_data[(delayed_data['delay_days'] > 30) & (delayed_data['delay_days'] <= 60)])\n",
        "long_delayed = len(delayed_data[delayed_data['delay_days'] > 60])\n",
        "\n",
        "delayed_category = pd.Series([short_delayed, medium_delayed, long_delayed], index=['Кратковременные', 'Средние', 'Длительные'])\n",
        "\n",
        "plt.figure(figsize=(10, 6))\n",
        "delayed_category.plot(kind='bar')\n",
        "plt.title('Распределение заявок по срокам просрочки')\n",
        "plt.xlabel('Категория просрочки')\n",
        "plt.ylabel('Количество заявок')\n",
        "plt.tight_layout()\n",
        "plt.show()"
      ],
      "metadata": {
        "colab": {
          "base_uri": "https://localhost:8080/",
          "height": 607
        },
        "id": "MSlqCjDTtksl",
        "outputId": "cf70a464-9867-417e-b1a3-41d1f42f0fcc"
      },
      "execution_count": null,
      "outputs": [
        {
          "output_type": "display_data",
          "data": {
            "text/plain": [
              "<Figure size 1000x600 with 1 Axes>"
            ],
            "image/png": "[encoded data removed]"
          },
          "metadata": {}
        }
      ]
    },
    {
      "cell_type": "markdown",
      "source": [
        "**Вывод:**\n",
        "\n",
        "Этот график позволяет оценить, сколько заявок относятся к различным категориям просрочки.\n",
        "\n",
        "На конец периода сбора статистических данных, большинство заявок находятся в категории кратковременных просрочек, это может означать, что проблемы с оплатой в основном носят эфемерный характер.\n",
        "\n",
        "Однако, необходимо обратить внимание на правую часть диаграммы. Согласно графику, 80 и 60 тысяч заявок попали в категории средней и длительной просрочки. В будущем данные кейсы могут привести к негативным последствиям."
      ],
      "metadata": {
        "id": "Od_QKg4w1hdu"
      }
    },
    {
      "cell_type": "markdown",
      "source": [
        "<a id=\"graph7\"></a>\n",
        "### 7. График отклонений от плановой суммы по месяцам"
      ],
      "metadata": {
        "id": "FyWn8qaz0o_j"
      }
    },
    {
      "cell_type": "code",
      "source": [
        "deviation_by_month = merged_data.groupby('month')['deviation_from_plan'].mean()\n",
        "\n",
        "plt.figure(figsize=(10, 6))\n",
        "plt.plot(deviation_by_month.index, deviation_by_month.values)\n",
        "plt.title('Отклонения от плановой суммы по месяцам')\n",
        "plt.xlabel('Месяц')\n",
        "plt.ylabel('Среднее отклонение от плановой суммы (%)')\n",
        "plt.xticks(rotation=30)\n",
        "plt.tight_layout()\n",
        "plt.show()"
      ],
      "metadata": {
        "colab": {
          "base_uri": "https://localhost:8080/",
          "height": 607
        },
        "id": "Sg449GtFtkqP",
        "outputId": "70bbd237-a501-4a73-f58b-a47d3ae0cae5"
      },
      "execution_count": null,
      "outputs": [
        {
          "output_type": "display_data",
          "data": {
            "text/plain": [
              "<Figure size 1000x600 with 1 Axes>"
            ],
            "image/png": "[encoded data removed]"
          },
          "metadata": {}
        }
      ]
    },
    {
      "cell_type": "markdown",
      "source": [
        "**Вывод:**\n",
        "\n",
        "Этот график показывает, как меняются отклонения от плановой суммы по месяцам.\n",
        "\n",
        "Снижение отклонений в период с Ноября 2022 года по Май 2023 года, может свидетельствовать о более точном прогнозировании и лучшем контроле над платежами.\n",
        "\n",
        "Вместе с тем, повышение процента отклонения от плановой суммы с Мая по Июнь 2023 года может указывать на увеличение числа недоплат или нестабильность в поступлениях. Кроме того, возрастание кривой в указанном периоде может быть связано с воздействием внешних факторов.\n"
      ],
      "metadata": {
        "id": "yQ3lK4rJ1ox_"
      }
    },
    {
      "cell_type": "markdown",
      "source": [
        "<a id=\"corr\"></a>\n",
        "## Результаты и выводы\n"
      ],
      "metadata": {
        "id": "MaRbguUwY3qw"
      }
    },
    {
      "cell_type": "markdown",
      "source": [
        "В ходе проведенного анализа данных было выявлено, что большинство просроченных платежей приходятся на кратковременные задержки (1-30 дней), однако, также наблюдаются длительные просрочки, что может привести к негативным последствиям в будущем. Средняя просрочка по месяцам снижается, что подтверждает эффективность ранее принятых мер по улучшению финансовой дисциплины среди клиентов.\n",
        "\n",
        "При анализе отклонения платежей от плановых сумм, были зафиксированы выбросы (до 5000%), что может свидетельствовать о проблемах с качеством данных. После фильтрации данных, стало ясно, что большинство отклонений составляет до 500%. Наличие отрицательных значений, говорит о случаях недостатка или задержки выплат. Процент своевременных платежей стабильно остается на уровне около 80%.\n",
        "Снижение отклонений от плановой суммы с ноября по май говорит об улучшении прогнозирования и контроля, однако, повышение отклонений в июне требует более детального анализа и уточнения причин."
      ],
      "metadata": {
        "id": "L60SpwmjYewJ"
      }
    },
    {
      "cell_type": "markdown",
      "source": [
        "<a id=\"conclusion\"></a>\n",
        "## Заключение"
      ],
      "metadata": {
        "id": "xpfRtjLwZEMT"
      }
    },
    {
      "cell_type": "markdown",
      "source": [
        "Таким образом, несмотря на позитивную динамику в уменьшении просрочек и улучшении дисциплины, длительные просрочки и выбросы в данных требуют внимания и дальнейшего контроля. Рекомендуется продолжить мониторинг ситуации, а также, уточнять данные для более точного прогнозирования и принятия управленческих решений."
      ],
      "metadata": {
        "id": "Yu3E_JfdZFsB"
      }
    },
    {
      "cell_type": "markdown",
      "source": [
        "<a id=\"contacts\"></a>\n",
        "## Контакты"
      ],
      "metadata": {
        "id": "-oXC1AIsZPw4"
      }
    },
    {
      "cell_type": "markdown",
      "source": [
        "Author:  Неверов Тимофей\n",
        "\n",
        "Email:  neverovtd@gmail.com\n",
        "\n",
        "GitHub:  https://github.com/kossmasssun/credit-risk-analysis"
      ],
      "metadata": {
        "id": "LffJvFlMZXI2"
      }
    }
  ]
}